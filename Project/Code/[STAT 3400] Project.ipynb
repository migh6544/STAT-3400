{
 "cells": [
  {
   "cell_type": "code",
   "execution_count": 101,
   "id": "efcc6e9e-d906-4095-90b7-dca97c587acc",
   "metadata": {},
   "outputs": [],
   "source": [
    "MPI <- read.csv(\"MPI.csv\")\n",
    "CPI <- read.csv(\"CPI.csv\")\n",
    "UEM <- read.csv(\"UEM.csv\")\n",
    "GDP <- read.csv(\"GDP.csv\")\n",
    "PPP <- read.csv(\"PPP.csv\")\n",
    "\n",
    "MPI <- MPI[,2:18]\n",
    "CPI <- CPI[,2:18]\n",
    "UEM <- UEM[,2:18]\n",
    "GDP <- GDP[,2:18]\n",
    "PPP <- PPP[,2:18]\n",
    "\n",
    "MPI <- as.data.frame(scale(MPI))\n",
    "CPI <- as.data.frame(scale(CPI))\n",
    "UEM <- as.data.frame(scale(UEM))\n",
    "GDP <- as.data.frame(scale(GDP))\n",
    "PPP <- as.data.frame(scale(PPP))"
   ]
  },
  {
   "cell_type": "code",
   "execution_count": 83,
   "id": "3f6fb6af-4c31-4a25-9b4c-3815349b0d0f",
   "metadata": {},
   "outputs": [
    {
     "data": {
      "text/plain": [
       "\n",
       "Call:\n",
       "lm(formula = MPI.Bangladesh ~ ., data = Bangladesh)\n",
       "\n",
       "Residuals:\n",
       "      1       2       3       4       5       6 \n",
       " 0.0661  0.2709 -0.6390  0.3433 -0.1339  0.0925 \n",
       "\n",
       "Coefficients:\n",
       "                 Estimate Std. Error t value Pr(>|t|)\n",
       "(Intercept)     2.793e-15  3.242e-01   0.000    1.000\n",
       "UEM.Bangladesh -2.215e-01  9.110e-01  -0.243    0.848\n",
       "CPI.Bangladesh -2.924e-01  1.465e+00  -0.200    0.875\n",
       "GDP.Bangladesh  4.825e+00  1.241e+01   0.389    0.764\n",
       "PPP.Bangladesh -5.739e+00  1.403e+01  -0.409    0.753\n",
       "\n",
       "Residual standard error: 0.794 on 1 degrees of freedom\n",
       "Multiple R-squared:  0.8739,\tAdjusted R-squared:  0.3695 \n",
       "F-statistic: 1.733 on 4 and 1 DF,  p-value: 0.5103\n"
      ]
     },
     "metadata": {},
     "output_type": "display_data"
    },
    {
     "data": {
      "text/plain": [
       "               Df Sum Sq Mean Sq F value Pr(>F)\n",
       "UEM.Bangladesh  1  3.867   3.867   6.133  0.244\n",
       "CPI.Bangladesh  1  0.309   0.309   0.490  0.611\n",
       "GDP.Bangladesh  1  0.089   0.089   0.140  0.772\n",
       "PPP.Bangladesh  1  0.105   0.105   0.167  0.753\n",
       "Residuals       1  0.630   0.630               "
      ]
     },
     "metadata": {},
     "output_type": "display_data"
    }
   ],
   "source": [
    "Bangladesh <- data.frame(UEM$Bangladesh, MPI$Bangladesh, CPI$Bangladesh, GDP$Bangladesh, PPP$Bangladesh)\n",
    "Lmod_Bangladesh = lm(MPI.Bangladesh ~ ., data = Bangladesh)\n",
    "summary(Lmod_Bangladesh)\n",
    "\n",
    "anova_Bangladesh = aov(Lmod_Bangladesh)\n",
    "summary(anova_Bangladesh)"
   ]
  },
  {
   "cell_type": "code",
   "execution_count": 84,
   "id": "fddeb151-25c0-4704-9673-3cd8b47369b8",
   "metadata": {},
   "outputs": [
    {
     "data": {
      "text/plain": [
       "\n",
       "Call:\n",
       "lm(formula = MPI.D.R.Congo ~ ., data = D.R.Congo)\n",
       "\n",
       "Residuals:\n",
       "        1         2         3         4         5         6 \n",
       "-0.006313  0.028300  0.159321 -0.218970  0.086275 -0.048613 \n",
       "\n",
       "Coefficients:\n",
       "                Estimate Std. Error t value Pr(>|t|)\n",
       "(Intercept)   -2.758e-16  1.183e-01   0.000    1.000\n",
       "UEM.D.R.Congo  8.484e-02  2.148e-01   0.395    0.761\n",
       "CPI.D.R.Congo -3.126e-01  1.828e-01  -1.710    0.337\n",
       "GDP.D.R.Congo -8.360e-01  5.363e-01  -1.559    0.363\n",
       "PPP.D.R.Congo -3.535e-01  4.364e-01  -0.810    0.567\n",
       "\n",
       "Residual standard error: 0.2898 on 1 degrees of freedom\n",
       "Multiple R-squared:  0.9832,\tAdjusted R-squared:  0.916 \n",
       "F-statistic: 14.63 on 4 and 1 DF,  p-value: 0.1933\n"
      ]
     },
     "metadata": {},
     "output_type": "display_data"
    },
    {
     "data": {
      "text/plain": [
       "              Df Sum Sq Mean Sq F value Pr(>F)  \n",
       "UEM.D.R.Congo  1  0.354   0.354   4.218 0.2885  \n",
       "CPI.D.R.Congo  1  0.209   0.209   2.491 0.3595  \n",
       "GDP.D.R.Congo  1  4.297   4.297  51.173 0.0884 .\n",
       "PPP.D.R.Congo  1  0.055   0.055   0.656 0.5665  \n",
       "Residuals      1  0.084   0.084                 \n",
       "---\n",
       "Signif. codes:  0 ‘***’ 0.001 ‘**’ 0.01 ‘*’ 0.05 ‘.’ 0.1 ‘ ’ 1"
      ]
     },
     "metadata": {},
     "output_type": "display_data"
    }
   ],
   "source": [
    "D.R.Congo <- data.frame(UEM$D.R.Congo, MPI$D.R.Congo, CPI$D.R.Congo, GDP$D.R.Congo, PPP$D.R.Congo)\n",
    "Lmod_D.R.Congo = lm(MPI.D.R.Congo ~ ., data = D.R.Congo)\n",
    "summary(Lmod_D.R.Congo)\n",
    "\n",
    "anova_D.R.Congo = aov(Lmod_D.R.Congo)\n",
    "summary(anova_D.R.Congo)"
   ]
  },
  {
   "cell_type": "code",
   "execution_count": 85,
   "id": "b1a1337e-7002-45c9-bec0-fb0fd07803b0",
   "metadata": {},
   "outputs": [
    {
     "data": {
      "text/plain": [
       "\n",
       "Call:\n",
       "lm(formula = MPI.Dominican.Republic ~ ., data = Dominican.Republic)\n",
       "\n",
       "Residuals:\n",
       "       1        2        3        4        5        6 \n",
       "-0.03864  0.06158 -0.07910  0.11084 -0.04013 -0.01455 \n",
       "\n",
       "Coefficients:\n",
       "                         Estimate Std. Error t value Pr(>|t|)\n",
       "(Intercept)             9.455e-16  6.538e-02   0.000    1.000\n",
       "UEM.Dominican.Republic -5.686e-01  1.720e-01  -3.306    0.187\n",
       "CPI.Dominican.Republic -3.570e-01  1.511e-01  -2.363    0.255\n",
       "GDP.Dominican.Republic -2.005e-02  2.734e-01  -0.073    0.953\n",
       "PPP.Dominican.Republic -7.198e-01  4.418e-01  -1.629    0.350\n",
       "\n",
       "Residual standard error: 0.1602 on 1 degrees of freedom\n",
       "Multiple R-squared:  0.9949,\tAdjusted R-squared:  0.9744 \n",
       "F-statistic: 48.48 on 4 and 1 DF,  p-value: 0.1073\n"
      ]
     },
     "metadata": {},
     "output_type": "display_data"
    },
    {
     "data": {
      "text/plain": [
       "                       Df Sum Sq Mean Sq F value Pr(>F)  \n",
       "UEM.Dominican.Republic  1  4.458   4.458 173.821 0.0482 *\n",
       "CPI.Dominican.Republic  1  0.030   0.030   1.176 0.4742  \n",
       "GDP.Dominican.Republic  1  0.418   0.418  16.287 0.1546  \n",
       "PPP.Dominican.Republic  1  0.068   0.068   2.654 0.3505  \n",
       "Residuals               1  0.026   0.026                 \n",
       "---\n",
       "Signif. codes:  0 ‘***’ 0.001 ‘**’ 0.01 ‘*’ 0.05 ‘.’ 0.1 ‘ ’ 1"
      ]
     },
     "metadata": {},
     "output_type": "display_data"
    }
   ],
   "source": [
    "Dominican.Republic <- data.frame(UEM$Dominican.Republic, MPI$Dominican.Republic, CPI$Dominican.Republic, GDP$Dominican.Republic, PPP$Dominican.Republic)\n",
    "Lmod_Dominican.Republic = lm(MPI.Dominican.Republic ~ ., data = Dominican.Republic)\n",
    "summary(Lmod_Dominican.Republic)\n",
    "\n",
    "anova_Dominican.Republic = aov(Lmod_Dominican.Republic)\n",
    "summary(anova_Dominican.Republic)"
   ]
  },
  {
   "cell_type": "code",
   "execution_count": 86,
   "id": "9050e316-4072-4fa5-bccb-fcf1c6c2576f",
   "metadata": {},
   "outputs": [
    {
     "data": {
      "text/plain": [
       "\n",
       "Call:\n",
       "lm(formula = MPI.Jordan ~ ., data = Jordan)\n",
       "\n",
       "Residuals:\n",
       "      1       2       3       4       5       6 \n",
       "-0.2830  0.3037 -0.2724  0.3816  0.1517 -0.2815 \n",
       "\n",
       "Coefficients:\n",
       "              Estimate Std. Error t value Pr(>|t|)\n",
       "(Intercept)  5.389e-16  2.871e-01   0.000    1.000\n",
       "UEM.Jordan  -1.546e+00  1.107e+00  -1.396    0.396\n",
       "CPI.Jordan  -3.410e-01  4.389e-01  -0.777    0.579\n",
       "GDP.Jordan   8.784e-01  1.369e+00   0.642    0.637\n",
       "PPP.Jordan  -7.698e-01  6.423e-01  -1.198    0.443\n",
       "\n",
       "Residual standard error: 0.7031 on 1 degrees of freedom\n",
       "Multiple R-squared:  0.9011,\tAdjusted R-squared:  0.5056 \n",
       "F-statistic: 2.278 on 4 and 1 DF,  p-value: 0.4561\n"
      ]
     },
     "metadata": {},
     "output_type": "display_data"
    },
    {
     "data": {
      "text/plain": [
       "            Df Sum Sq Mean Sq F value Pr(>F)\n",
       "UEM.Jordan   1  3.630   3.630   7.343  0.225\n",
       "CPI.Jordan   1  0.077   0.077   0.155  0.761\n",
       "GDP.Jordan   1  0.088   0.088   0.179  0.745\n",
       "PPP.Jordan   1  0.710   0.710   1.436  0.443\n",
       "Residuals    1  0.494   0.494               "
      ]
     },
     "metadata": {},
     "output_type": "display_data"
    }
   ],
   "source": [
    "Jordan <- data.frame(UEM$Jordan, MPI$Jordan, CPI$Jordan, GDP$Jordan, PPP$Jordan)\n",
    "Lmod_Jordan = lm(MPI.Jordan ~ ., data = Jordan)\n",
    "summary(Lmod_Jordan)\n",
    "\n",
    "anova_Jordan = aov(Lmod_Jordan)\n",
    "summary(anova_Jordan)"
   ]
  },
  {
   "cell_type": "code",
   "execution_count": 87,
   "id": "88ce5a9a-9e2e-4740-a0a8-5898bdcba4c6",
   "metadata": {},
   "outputs": [
    {
     "data": {
      "text/plain": [
       "\n",
       "Call:\n",
       "lm(formula = MPI.Lesotho ~ ., data = Lesotho)\n",
       "\n",
       "Residuals:\n",
       "        1         2         3         4         5         6 \n",
       " 0.004436  0.009241 -0.012939 -0.015937  0.027764 -0.012564 \n",
       "\n",
       "Coefficients:\n",
       "              Estimate Std. Error t value Pr(>|t|)  \n",
       "(Intercept)  9.054e-16  1.557e-02   0.000   1.0000  \n",
       "UEM.Lesotho  3.948e-01  3.340e-02  11.820   0.0537 .\n",
       "CPI.Lesotho  5.411e-03  1.996e-02   0.271   0.8315  \n",
       "GDP.Lesotho -4.432e-01  2.393e-02 -18.523   0.0343 *\n",
       "PPP.Lesotho -5.898e-01  3.194e-02 -18.464   0.0344 *\n",
       "---\n",
       "Signif. codes:  0 ‘***’ 0.001 ‘**’ 0.01 ‘*’ 0.05 ‘.’ 0.1 ‘ ’ 1\n",
       "\n",
       "Residual standard error: 0.03815 on 1 degrees of freedom\n",
       "Multiple R-squared:  0.9997,\tAdjusted R-squared:  0.9985 \n",
       "F-statistic: 858.7 on 4 and 1 DF,  p-value: 0.02559\n"
      ]
     },
     "metadata": {},
     "output_type": "display_data"
    },
    {
     "data": {
      "text/plain": [
       "            Df Sum Sq Mean Sq  F value Pr(>F)  \n",
       "UEM.Lesotho  1 2.1816  2.1816 1499.188 0.0164 *\n",
       "CPI.Lesotho  1 0.0027  0.0027    1.853 0.4033  \n",
       "GDP.Lesotho  1 2.3182  2.3182 1593.054 0.0159 *\n",
       "PPP.Lesotho  1 0.4961  0.4961  340.904 0.0344 *\n",
       "Residuals    1 0.0015  0.0015                  \n",
       "---\n",
       "Signif. codes:  0 ‘***’ 0.001 ‘**’ 0.01 ‘*’ 0.05 ‘.’ 0.1 ‘ ’ 1"
      ]
     },
     "metadata": {},
     "output_type": "display_data"
    }
   ],
   "source": [
    "Lesotho <- data.frame(UEM$Lesotho, MPI$Lesotho, CPI$Lesotho, GDP$Lesotho, PPP$Lesotho)\n",
    "Lmod_Lesotho = lm(MPI.Lesotho ~ ., data = Lesotho)\n",
    "summary(Lmod_Lesotho)\n",
    "\n",
    "anova_Lesotho = aov(Lmod_Lesotho)\n",
    "summary(anova_Lesotho)"
   ]
  },
  {
   "cell_type": "code",
   "execution_count": 88,
   "id": "93154b1d-0d0a-45ad-a355-ddf3a28de064",
   "metadata": {},
   "outputs": [
    {
     "data": {
      "text/plain": [
       "\n",
       "Call:\n",
       "lm(formula = MPI.Malawi ~ ., data = Malawi)\n",
       "\n",
       "Residuals:\n",
       "        1         2         3         4         5         6 \n",
       "-0.017854  0.104105 -0.153894  0.066665 -0.003921  0.004899 \n",
       "\n",
       "Coefficients:\n",
       "              Estimate Std. Error t value Pr(>|t|)\n",
       "(Intercept)  2.107e-16  8.096e-02   0.000    1.000\n",
       "UEM.Malawi  -1.920e-01  1.719e-01  -1.117    0.465\n",
       "CPI.Malawi  -2.202e-01  2.120e-01  -1.039    0.488\n",
       "GDP.Malawi  -5.754e-02  2.863e-01  -0.201    0.874\n",
       "PPP.Malawi  -1.069e+00  2.088e-01  -5.119    0.123\n",
       "\n",
       "Residual standard error: 0.1983 on 1 degrees of freedom\n",
       "Multiple R-squared:  0.9921,\tAdjusted R-squared:  0.9607 \n",
       "F-statistic: 31.54 on 4 and 1 DF,  p-value: 0.1327\n"
      ]
     },
     "metadata": {},
     "output_type": "display_data"
    },
    {
     "data": {
      "text/plain": [
       "            Df Sum Sq Mean Sq F value Pr(>F)  \n",
       "UEM.Malawi   1  0.365   0.365   9.275 0.2020  \n",
       "CPI.Malawi   1  0.000   0.000   0.010 0.9374  \n",
       "GDP.Malawi   1  3.565   3.565  90.665 0.0666 .\n",
       "PPP.Malawi   1  1.030   1.030  26.200 0.1228  \n",
       "Residuals    1  0.039   0.039                 \n",
       "---\n",
       "Signif. codes:  0 ‘***’ 0.001 ‘**’ 0.01 ‘*’ 0.05 ‘.’ 0.1 ‘ ’ 1"
      ]
     },
     "metadata": {},
     "output_type": "display_data"
    }
   ],
   "source": [
    "Malawi <- data.frame(UEM$Malawi, MPI$Malawi, CPI$Malawi, GDP$Malawi, PPP$Malawi)\n",
    "Lmod_Malawi = lm(MPI.Malawi ~ ., data = Malawi)\n",
    "summary(Lmod_Malawi)\n",
    "\n",
    "anova_Malawi = aov(Lmod_Malawi)\n",
    "summary(anova_Malawi)"
   ]
  },
  {
   "cell_type": "code",
   "execution_count": 89,
   "id": "9ff0ed09-588e-44db-b276-efa666ede768",
   "metadata": {},
   "outputs": [
    {
     "data": {
      "text/plain": [
       "\n",
       "Call:\n",
       "lm(formula = MPI.Mongolia ~ ., data = Mongolia)\n",
       "\n",
       "Residuals:\n",
       "       1        2        3        4        5        6 \n",
       "-0.06479 -0.09850  0.29095 -0.02585 -0.02075 -0.08106 \n",
       "\n",
       "Coefficients:\n",
       "               Estimate Std. Error t value Pr(>|t|)\n",
       "(Intercept)   5.939e-16  1.331e-01   0.000    1.000\n",
       "UEM.Mongolia  1.688e+00  5.715e-01   2.953    0.208\n",
       "CPI.Mongolia  1.450e+00  6.707e-01   2.161    0.276\n",
       "GDP.Mongolia  1.451e-01  3.770e-01   0.385    0.766\n",
       "PPP.Mongolia -9.752e-02  5.019e-01  -0.194    0.878\n",
       "\n",
       "Residual standard error: 0.3259 on 1 degrees of freedom\n",
       "Multiple R-squared:  0.9788,\tAdjusted R-squared:  0.8938 \n",
       "F-statistic: 11.52 on 4 and 1 DF,  p-value: 0.2171\n"
      ]
     },
     "metadata": {},
     "output_type": "display_data"
    },
    {
     "data": {
      "text/plain": [
       "             Df Sum Sq Mean Sq F value Pr(>F)\n",
       "UEM.Mongolia  1  0.937   0.937   8.819  0.207\n",
       "CPI.Mongolia  1  3.941   3.941  37.100  0.104\n",
       "GDP.Mongolia  1  0.012   0.012   0.114  0.793\n",
       "PPP.Mongolia  1  0.004   0.004   0.038  0.878\n",
       "Residuals     1  0.106   0.106               "
      ]
     },
     "metadata": {},
     "output_type": "display_data"
    }
   ],
   "source": [
    "Mongolia <- data.frame(UEM$Mongolia, MPI$Mongolia, CPI$Mongolia, GDP$Mongolia, PPP$Mongolia)\n",
    "Lmod_Mongolia = lm(MPI.Mongolia ~ ., data = Mongolia)\n",
    "summary(Lmod_Mongolia)\n",
    "\n",
    "anova_Mongolia = aov(Lmod_Mongolia)\n",
    "summary(anova_Mongolia)"
   ]
  },
  {
   "cell_type": "code",
   "execution_count": 90,
   "id": "cf0a4903-7318-4049-9748-e817337a2c95",
   "metadata": {},
   "outputs": [
    {
     "data": {
      "text/plain": [
       "\n",
       "Call:\n",
       "lm(formula = MPI.Morocco ~ ., data = Morocco)\n",
       "\n",
       "Residuals:\n",
       "      1       2       3       4       5       6 \n",
       " 0.1952 -0.1059 -0.4642  0.3376 -0.1405  0.1778 \n",
       "\n",
       "Coefficients:\n",
       "              Estimate Std. Error t value Pr(>|t|)\n",
       "(Intercept) -4.802e-16  2.677e-01   0.000    1.000\n",
       "UEM.Morocco -3.228e-01  5.251e-01  -0.615    0.649\n",
       "CPI.Morocco -6.489e-01  3.084e-01  -2.104    0.282\n",
       "GDP.Morocco  1.306e-02  4.182e-01   0.031    0.980\n",
       "PPP.Morocco -6.328e-01  5.525e-01  -1.145    0.457\n",
       "\n",
       "Residual standard error: 0.6558 on 1 degrees of freedom\n",
       "Multiple R-squared:  0.914,\tAdjusted R-squared:  0.5699 \n",
       "F-statistic: 2.656 on 4 and 1 DF,  p-value: 0.4273\n"
      ]
     },
     "metadata": {},
     "output_type": "display_data"
    },
    {
     "data": {
      "text/plain": [
       "            Df Sum Sq Mean Sq F value Pr(>F)\n",
       "UEM.Morocco  1 2.4363  2.4363   5.665  0.253\n",
       "CPI.Morocco  1 1.5109  1.5109   3.513  0.312\n",
       "GDP.Morocco  1 0.0586  0.0586   0.136  0.775\n",
       "PPP.Morocco  1 0.5641  0.5641   1.312  0.457\n",
       "Residuals    1 0.4301  0.4301               "
      ]
     },
     "metadata": {},
     "output_type": "display_data"
    }
   ],
   "source": [
    "Morocco <- data.frame(UEM$Morocco, MPI$Morocco, CPI$Morocco, GDP$Morocco, PPP$Morocco)\n",
    "Lmod_Morocco = lm(MPI.Morocco ~ ., data = Morocco)\n",
    "summary(Lmod_Morocco)\n",
    "\n",
    "anova_Morocco = aov(Lmod_Morocco)\n",
    "summary(anova_Morocco)"
   ]
  },
  {
   "cell_type": "code",
   "execution_count": 91,
   "id": "08251911-b0c1-4859-bc05-431df77bc862",
   "metadata": {},
   "outputs": [
    {
     "data": {
      "text/plain": [
       "\n",
       "Call:\n",
       "lm(formula = MPI.Nigeria ~ ., data = Nigeria)\n",
       "\n",
       "Residuals:\n",
       "       1        2        3        4        5        6 \n",
       " 0.02209 -0.00307 -0.01378 -0.01608 -0.03036  0.04120 \n",
       "\n",
       "Coefficients:\n",
       "              Estimate Std. Error t value Pr(>|t|)  \n",
       "(Intercept)  2.320e-15  2.437e-02    0.00   1.0000  \n",
       "UEM.Nigeria -5.724e+00  3.860e-01  -14.83   0.0429 *\n",
       "CPI.Nigeria  5.351e-01  7.881e-02    6.79   0.0931 .\n",
       "GDP.Nigeria -2.119e+00  9.562e-02  -22.16   0.0287 *\n",
       "PPP.Nigeria  3.505e+00  3.195e-01   10.97   0.0579 .\n",
       "---\n",
       "Signif. codes:  0 ‘***’ 0.001 ‘**’ 0.01 ‘*’ 0.05 ‘.’ 0.1 ‘ ’ 1\n",
       "\n",
       "Residual standard error: 0.0597 on 1 degrees of freedom\n",
       "Multiple R-squared:  0.9993,\tAdjusted R-squared:  0.9964 \n",
       "F-statistic: 350.4 on 4 and 1 DF,  p-value: 0.04004\n"
      ]
     },
     "metadata": {},
     "output_type": "display_data"
    },
    {
     "data": {
      "text/plain": [
       "            Df Sum Sq Mean Sq F value Pr(>F)  \n",
       "UEM.Nigeria  1 1.0838  1.0838   304.1 0.0365 *\n",
       "CPI.Nigeria  1 2.0844  2.0844   584.8 0.0263 *\n",
       "GDP.Nigeria  1 1.3992  1.3992   392.5 0.0321 *\n",
       "PPP.Nigeria  1 0.4290  0.4290   120.4 0.0579 .\n",
       "Residuals    1 0.0036  0.0036                 \n",
       "---\n",
       "Signif. codes:  0 ‘***’ 0.001 ‘**’ 0.01 ‘*’ 0.05 ‘.’ 0.1 ‘ ’ 1"
      ]
     },
     "metadata": {},
     "output_type": "display_data"
    }
   ],
   "source": [
    "Nigeria <- data.frame(UEM$Nigeria, MPI$Nigeria, CPI$Nigeria, GDP$Nigeria, PPP$Nigeria)\n",
    "Lmod_Nigeria = lm(MPI.Nigeria ~ ., data = Nigeria)\n",
    "summary(Lmod_Nigeria)\n",
    "\n",
    "anova_Nigeria = aov(Lmod_Nigeria)\n",
    "summary(anova_Nigeria)"
   ]
  },
  {
   "cell_type": "code",
   "execution_count": 92,
   "id": "f5572064-18c6-41f0-b964-8b27b36e859c",
   "metadata": {},
   "outputs": [
    {
     "data": {
      "text/plain": [
       "\n",
       "Call:\n",
       "lm(formula = MPI.Peru ~ ., data = Peru)\n",
       "\n",
       "Residuals:\n",
       "         1          2          3          4          5          6 \n",
       "-0.0020999  0.1682355 -0.4147765  0.3012716 -0.0002682 -0.0523625 \n",
       "\n",
       "Coefficients:\n",
       "              Estimate Std. Error t value Pr(>|t|)\n",
       "(Intercept) -4.591e-16  2.213e-01   0.000    1.000\n",
       "UEM.Peru    -3.350e-01  3.518e-01  -0.952    0.516\n",
       "CPI.Peru     6.105e-02  2.995e-01   0.204    0.872\n",
       "GDP.Peru    -1.825e-01  4.909e-01  -0.372    0.773\n",
       "PPP.Peru    -5.377e-01  5.456e-01  -0.985    0.505\n",
       "\n",
       "Residual standard error: 0.5421 on 1 degrees of freedom\n",
       "Multiple R-squared:  0.9412,\tAdjusted R-squared:  0.7061 \n",
       "F-statistic: 4.004 on 4 and 1 DF,  p-value: 0.3565\n"
      ]
     },
     "metadata": {},
     "output_type": "display_data"
    },
    {
     "data": {
      "text/plain": [
       "            Df Sum Sq Mean Sq F value Pr(>F)\n",
       "UEM.Peru     1 3.0610  3.0610  10.417  0.191\n",
       "CPI.Peru     1 0.0466  0.0466   0.159  0.759\n",
       "GDP.Peru     1 1.3131  1.3131   4.469  0.281\n",
       "PPP.Peru     1 0.2853  0.2853   0.971  0.505\n",
       "Residuals    1 0.2939  0.2939               "
      ]
     },
     "metadata": {},
     "output_type": "display_data"
    }
   ],
   "source": [
    "Peru <- data.frame(UEM$Peru, MPI$Peru, CPI$Peru, GDP$Peru, PPP$Peru)\n",
    "Lmod_Peru = lm(MPI.Peru ~ ., data = Peru)\n",
    "summary(Lmod_Peru)\n",
    "\n",
    "anova_Peru = aov(Lmod_Peru)\n",
    "summary(anova_Peru)"
   ]
  },
  {
   "cell_type": "code",
   "execution_count": 94,
   "id": "f7ee49d1-c49b-46ba-9ea9-df89e34faa53",
   "metadata": {},
   "outputs": [
    {
     "data": {
      "text/plain": [
       "\n",
       "Call:\n",
       "lm(formula = MPI.Philippines ~ ., data = Philippines)\n",
       "\n",
       "Residuals:\n",
       "       1        2        3        4        5        6 \n",
       " 0.01008 -0.08643  0.15853 -0.10038  0.05667 -0.03847 \n",
       "\n",
       "Coefficients:\n",
       "                  Estimate Std. Error t value Pr(>|t|)\n",
       "(Intercept)      1.067e-15  8.895e-02   0.000    1.000\n",
       "UEM.Philippines -1.685e-01  1.406e-01  -1.199    0.443\n",
       "CPI.Philippines -1.911e-01  1.133e-01  -1.687    0.341\n",
       "GDP.Philippines -2.159e-01  4.536e-01  -0.476    0.717\n",
       "PPP.Philippines -8.104e-01  4.147e-01  -1.954    0.301\n",
       "\n",
       "Residual standard error: 0.2179 on 1 degrees of freedom\n",
       "Multiple R-squared:  0.9905,\tAdjusted R-squared:  0.9525 \n",
       "F-statistic: 26.08 on 4 and 1 DF,  p-value: 0.1457\n"
      ]
     },
     "metadata": {},
     "output_type": "display_data"
    },
    {
     "data": {
      "text/plain": [
       "                Df Sum Sq Mean Sq F value Pr(>F)  \n",
       "UEM.Philippines  1  0.307   0.307   6.466 0.2385  \n",
       "CPI.Philippines  1  0.544   0.544  11.450 0.1829  \n",
       "GDP.Philippines  1  3.921   3.921  82.588 0.0698 .\n",
       "PPP.Philippines  1  0.181   0.181   3.819 0.3011  \n",
       "Residuals        1  0.047   0.047                 \n",
       "---\n",
       "Signif. codes:  0 ‘***’ 0.001 ‘**’ 0.01 ‘*’ 0.05 ‘.’ 0.1 ‘ ’ 1"
      ]
     },
     "metadata": {},
     "output_type": "display_data"
    }
   ],
   "source": [
    "Philippines <- data.frame(UEM$Philippines, MPI$Philippines, CPI$Philippines, GDP$Philippines, PPP$Philippines)\n",
    "Lmod_Philippines = lm(MPI.Philippines ~ ., data = Philippines)\n",
    "summary(Lmod_Philippines)\n",
    "\n",
    "anova_Philippines = aov(Lmod_Philippines)\n",
    "summary(anova_Philippines)"
   ]
  },
  {
   "cell_type": "code",
   "execution_count": 95,
   "id": "e296e1bc-46c6-4031-8866-bf8db8488c82",
   "metadata": {},
   "outputs": [
    {
     "data": {
      "text/plain": [
       "\n",
       "Call:\n",
       "lm(formula = MPI.Senegal ~ ., data = Senegal)\n",
       "\n",
       "Residuals:\n",
       "      1       2       3       4       5       6 \n",
       "-0.5153  1.0161 -0.4208 -0.2364  0.4997 -0.3434 \n",
       "\n",
       "Coefficients:\n",
       "              Estimate Std. Error t value Pr(>|t|)\n",
       "(Intercept) -3.359e-16  5.625e-01   0.000    1.000\n",
       "UEM.Senegal  7.256e-01  9.085e-01   0.799    0.571\n",
       "CPI.Senegal -1.559e-01  8.930e-01  -0.175    0.890\n",
       "GDP.Senegal -2.568e-01  8.727e-01  -0.294    0.818\n",
       "PPP.Senegal  9.362e-03  7.679e-01   0.012    0.992\n",
       "\n",
       "Residual standard error: 1.378 on 1 degrees of freedom\n",
       "Multiple R-squared:  0.6203,\tAdjusted R-squared:  -0.8986 \n",
       "F-statistic: 0.4084 on 4 and 1 DF,  p-value: 0.8073\n"
      ]
     },
     "metadata": {},
     "output_type": "display_data"
    },
    {
     "data": {
      "text/plain": [
       "            Df Sum Sq Mean Sq F value Pr(>F)\n",
       "UEM.Senegal  1 2.6169  2.6169   1.378  0.449\n",
       "CPI.Senegal  1 0.2585  0.2585   0.136  0.775\n",
       "GDP.Senegal  1 0.2257  0.2257   0.119  0.789\n",
       "PPP.Senegal  1 0.0003  0.0003   0.000  0.992\n",
       "Residuals    1 1.8986  1.8986               "
      ]
     },
     "metadata": {},
     "output_type": "display_data"
    }
   ],
   "source": [
    "Senegal <- data.frame(UEM$Senegal, MPI$Senegal, CPI$Senegal, GDP$Senegal, PPP$Senegal)\n",
    "Lmod_Senegal = lm(MPI.Senegal ~ ., data = Senegal)\n",
    "summary(Lmod_Senegal)\n",
    "\n",
    "anova_Senegal = aov(Lmod_Senegal)\n",
    "summary(anova_Senegal)"
   ]
  },
  {
   "cell_type": "code",
   "execution_count": 96,
   "id": "154dd9de-59a3-4c8d-aebc-bc705a0ea21a",
   "metadata": {},
   "outputs": [
    {
     "data": {
      "text/plain": [
       "\n",
       "Call:\n",
       "lm(formula = MPI.Sierra.Leone ~ ., data = Sierra.Leone)\n",
       "\n",
       "Residuals:\n",
       "       1        2        3        4        5        6 \n",
       "-0.19181  0.26038 -0.09823  0.07347  0.18982 -0.23362 \n",
       "\n",
       "Coefficients:\n",
       "                   Estimate Std. Error t value Pr(>|t|)\n",
       "(Intercept)      -1.425e-15  1.872e-01   0.000    1.000\n",
       "UEM.Sierra.Leone -4.158e-01  4.546e-01  -0.915    0.528\n",
       "CPI.Sierra.Leone  1.301e+00  1.018e+00   1.278    0.423\n",
       "GDP.Sierra.Leone  1.666e-01  7.492e-01   0.222    0.861\n",
       "PPP.Sierra.Leone -1.735e+00  1.074e+00  -1.615    0.353\n",
       "\n",
       "Residual standard error: 0.4585 on 1 degrees of freedom\n",
       "Multiple R-squared:  0.958,\tAdjusted R-squared:  0.7898 \n",
       "F-statistic: 5.695 on 4 and 1 DF,  p-value: 0.3033\n"
      ]
     },
     "metadata": {},
     "output_type": "display_data"
    },
    {
     "data": {
      "text/plain": [
       "                 Df Sum Sq Mean Sq F value Pr(>F)\n",
       "UEM.Sierra.Leone  1 2.8254  2.8254  13.439  0.170\n",
       "CPI.Sierra.Leone  1 0.2309  0.2309   1.098  0.485\n",
       "GDP.Sierra.Leone  1 1.1848  1.1848   5.635  0.254\n",
       "PPP.Sierra.Leone  1 0.5487  0.5487   2.610  0.353\n",
       "Residuals         1 0.2102  0.2102               "
      ]
     },
     "metadata": {},
     "output_type": "display_data"
    }
   ],
   "source": [
    "Sierra.Leone <- data.frame(UEM$Sierra.Leone, MPI$Sierra.Leone, CPI$Sierra.Leone, GDP$Sierra.Leone, PPP$Sierra.Leone)\n",
    "Lmod_Sierra.Leone = lm(MPI.Sierra.Leone ~ ., data = Sierra.Leone)\n",
    "summary(Lmod_Sierra.Leone)\n",
    "\n",
    "anova_Sierra.Leone = aov(Lmod_Sierra.Leone)\n",
    "summary(anova_Sierra.Leone)"
   ]
  },
  {
   "cell_type": "code",
   "execution_count": 97,
   "id": "4c67e792-0790-4431-8078-7fd3b39761c5",
   "metadata": {},
   "outputs": [
    {
     "data": {
      "text/plain": [
       "\n",
       "Call:\n",
       "lm(formula = MPI.South.Africa ~ ., data = South.Africa)\n",
       "\n",
       "Residuals:\n",
       "       1        2        3        4        5        6 \n",
       "-0.06659  0.19301 -0.38464  0.10829  0.66762 -0.51769 \n",
       "\n",
       "Coefficients:\n",
       "                   Estimate Std. Error t value Pr(>|t|)\n",
       "(Intercept)      -1.124e-15  3.905e-01   0.000    1.000\n",
       "UEM.South.Africa -1.538e+00  2.348e+00  -0.655    0.631\n",
       "CPI.South.Africa  3.966e-01  6.581e-01   0.603    0.655\n",
       "GDP.South.Africa  1.123e-01  1.248e+00   0.090    0.943\n",
       "PPP.South.Africa  1.173e+00  2.942e+00   0.398    0.759\n",
       "\n",
       "Residual standard error: 0.9566 on 1 degrees of freedom\n",
       "Multiple R-squared:  0.817,\tAdjusted R-squared:  0.08491 \n",
       "F-statistic: 1.116 on 4 and 1 DF,  p-value: 0.6026\n"
      ]
     },
     "metadata": {},
     "output_type": "display_data"
    },
    {
     "data": {
      "text/plain": [
       "                 Df Sum Sq Mean Sq F value Pr(>F)\n",
       "UEM.South.Africa  1 2.3282  2.3282   2.544  0.356\n",
       "CPI.South.Africa  1 1.4494  1.4494   1.584  0.427\n",
       "GDP.South.Africa  1 0.1620  0.1620   0.177  0.746\n",
       "PPP.South.Africa  1 0.1453  0.1453   0.159  0.759\n",
       "Residuals         1 0.9151  0.9151               "
      ]
     },
     "metadata": {},
     "output_type": "display_data"
    }
   ],
   "source": [
    "South.Africa <- data.frame(UEM$South.Africa, MPI$South.Africa, CPI$South.Africa, GDP$South.Africa, PPP$South.Africa)\n",
    "Lmod_South.Africa = lm(MPI.South.Africa ~ ., data = South.Africa)\n",
    "summary(Lmod_South.Africa)\n",
    "\n",
    "anova_South.Africa = aov(Lmod_South.Africa)\n",
    "summary(anova_South.Africa)"
   ]
  },
  {
   "cell_type": "code",
   "execution_count": 98,
   "id": "2c71f9e1-952c-4ea4-8f6f-e306cad5e901",
   "metadata": {},
   "outputs": [
    {
     "data": {
      "text/plain": [
       "\n",
       "Call:\n",
       "lm(formula = MPI.Suriname ~ ., data = Suriname)\n",
       "\n",
       "Residuals:\n",
       "       1        2        3        4        5        6 \n",
       " 0.10552  0.35595 -0.43482 -0.06864  0.11124 -0.06926 \n",
       "\n",
       "Coefficients:\n",
       "               Estimate Std. Error t value Pr(>|t|)\n",
       "(Intercept)   2.448e-16  2.411e-01   0.000    1.000\n",
       "UEM.Suriname -4.693e-01  3.211e-01  -1.462    0.382\n",
       "CPI.Suriname -9.232e-01  1.244e+00  -0.742    0.594\n",
       "GDP.Suriname -6.695e-01  4.899e-01  -1.367    0.402\n",
       "PPP.Suriname -1.113e-01  1.259e+00  -0.088    0.944\n",
       "\n",
       "Residual standard error: 0.5906 on 1 degrees of freedom\n",
       "Multiple R-squared:  0.9302,\tAdjusted R-squared:  0.6512 \n",
       "F-statistic: 3.334 on 4 and 1 DF,  p-value: 0.387\n"
      ]
     },
     "metadata": {},
     "output_type": "display_data"
    },
    {
     "data": {
      "text/plain": [
       "             Df Sum Sq Mean Sq F value Pr(>F)\n",
       "UEM.Suriname  1  3.238   3.238   9.285  0.202\n",
       "CPI.Suriname  1  0.754   0.754   2.162  0.380\n",
       "GDP.Suriname  1  0.656   0.656   1.881  0.401\n",
       "PPP.Suriname  1  0.003   0.003   0.008  0.944\n",
       "Residuals     1  0.349   0.349               "
      ]
     },
     "metadata": {},
     "output_type": "display_data"
    }
   ],
   "source": [
    "Suriname <- data.frame(UEM$Suriname, MPI$Suriname, CPI$Suriname, GDP$Suriname, PPP$Suriname)\n",
    "Lmod_Suriname = lm(MPI.Suriname ~ ., data = Suriname)\n",
    "summary(Lmod_Suriname)\n",
    "\n",
    "anova_Suriname = aov(Lmod_Suriname)\n",
    "summary(anova_Suriname)"
   ]
  },
  {
   "cell_type": "code",
   "execution_count": 99,
   "id": "b0728d9c-7656-48c8-93fe-091cc61387b6",
   "metadata": {},
   "outputs": [
    {
     "data": {
      "text/plain": [
       "\n",
       "Call:\n",
       "lm(formula = MPI.Togo ~ ., data = Togo)\n",
       "\n",
       "Residuals:\n",
       "       1        2        3        4        5        6 \n",
       "-0.02747  0.06029 -0.04654  0.01534  0.02137 -0.02299 \n",
       "\n",
       "Coefficients:\n",
       "              Estimate Std. Error t value Pr(>|t|)  \n",
       "(Intercept) -8.296e-17  3.600e-02   0.000   1.0000  \n",
       "UEM.Togo     4.814e+00  7.531e-01   6.393   0.0988 .\n",
       "CPI.Togo     2.325e-01  1.247e-01   1.865   0.3133  \n",
       "GDP.Togo    -6.011e+00  7.685e-01  -7.822   0.0810 .\n",
       "PPP.Togo     7.259e-01  1.567e-01   4.633   0.1353  \n",
       "---\n",
       "Signif. codes:  0 ‘***’ 0.001 ‘**’ 0.01 ‘*’ 0.05 ‘.’ 0.1 ‘ ’ 1\n",
       "\n",
       "Residual standard error: 0.08818 on 1 degrees of freedom\n",
       "Multiple R-squared:  0.9984,\tAdjusted R-squared:  0.9922 \n",
       "F-statistic: 160.5 on 4 and 1 DF,  p-value: 0.05912\n"
      ]
     },
     "metadata": {},
     "output_type": "display_data"
    },
    {
     "data": {
      "text/plain": [
       "            Df Sum Sq Mean Sq F value Pr(>F)  \n",
       "UEM.Togo     1  3.643   3.643  468.57 0.0294 *\n",
       "CPI.Togo     1  0.354   0.354   45.47 0.0937 .\n",
       "GDP.Togo     1  0.829   0.829  106.57 0.0615 .\n",
       "PPP.Togo     1  0.167   0.167   21.47 0.1353  \n",
       "Residuals    1  0.008   0.008                 \n",
       "---\n",
       "Signif. codes:  0 ‘***’ 0.001 ‘**’ 0.01 ‘*’ 0.05 ‘.’ 0.1 ‘ ’ 1"
      ]
     },
     "metadata": {},
     "output_type": "display_data"
    }
   ],
   "source": [
    "Togo <- data.frame(UEM$Togo, MPI$Togo, CPI$Togo, GDP$Togo, PPP$Togo)\n",
    "Lmod_Togo = lm(MPI.Togo ~ ., data = Togo)\n",
    "summary(Lmod_Togo)\n",
    "\n",
    "anova_Togo = aov(Lmod_Togo)\n",
    "summary(anova_Togo)"
   ]
  },
  {
   "cell_type": "code",
   "execution_count": 100,
   "id": "97076dd3-a474-4aa5-9eaa-51234bcb1bae",
   "metadata": {},
   "outputs": [
    {
     "data": {
      "text/plain": [
       "\n",
       "Call:\n",
       "lm(formula = MPI.Zimbabwe ~ ., data = Zimbabwe)\n",
       "\n",
       "Residuals:\n",
       "        1         2         3         4         5         6 \n",
       "-0.000143  0.001711  0.004362 -0.005897  0.001147 -0.001181 \n",
       "\n",
       "Coefficients:\n",
       "               Estimate Std. Error t value Pr(>|t|)   \n",
       "(Intercept)  -9.029e-16  3.148e-03    0.00  1.00000   \n",
       "UEM.Zimbabwe -5.597e-01  4.144e-03 -135.06  0.00471 **\n",
       "CPI.Zimbabwe  1.132e+00  9.255e-03  122.29  0.00521 **\n",
       "GDP.Zimbabwe  6.290e-02  5.926e-03   10.61  0.05981 . \n",
       "PPP.Zimbabwe -1.365e+00  8.088e-03 -168.81  0.00377 **\n",
       "---\n",
       "Signif. codes:  0 ‘***’ 0.001 ‘**’ 0.01 ‘*’ 0.05 ‘.’ 0.1 ‘ ’ 1\n",
       "\n",
       "Residual standard error: 0.007711 on 1 degrees of freedom\n",
       "Multiple R-squared:      1,\tAdjusted R-squared:  0.9999 \n",
       "F-statistic: 2.102e+04 on 4 and 1 DF,  p-value: 0.005173\n"
      ]
     },
     "metadata": {},
     "output_type": "display_data"
    },
    {
     "data": {
      "text/plain": [
       "             Df Sum Sq Mean Sq F value  Pr(>F)   \n",
       "UEM.Zimbabwe  1 1.7879  1.7879 30070.0 0.00367 **\n",
       "CPI.Zimbabwe  1 0.0093  0.0093   156.1 0.05085 . \n",
       "GDP.Zimbabwe  1 1.5085  1.5085 25371.8 0.00400 **\n",
       "PPP.Zimbabwe  1 1.6942  1.6942 28495.1 0.00377 **\n",
       "Residuals     1 0.0001  0.0001                   \n",
       "---\n",
       "Signif. codes:  0 ‘***’ 0.001 ‘**’ 0.01 ‘*’ 0.05 ‘.’ 0.1 ‘ ’ 1"
      ]
     },
     "metadata": {},
     "output_type": "display_data"
    }
   ],
   "source": [
    "Zimbabwe <- data.frame(UEM$Zimbabwe, MPI$Zimbabwe, CPI$Zimbabwe, GDP$Zimbabwe, PPP$Zimbabwe)\n",
    "Lmod_Zimbabwe = lm(MPI.Zimbabwe ~ ., data = Zimbabwe)\n",
    "summary(Lmod_Zimbabwe)\n",
    "\n",
    "anova_Zimbabwe = aov(Lmod_Zimbabwe)\n",
    "summary(anova_Zimbabwe)"
   ]
  }
 ],
 "metadata": {
  "kernelspec": {
   "display_name": "R",
   "language": "R",
   "name": "ir"
  },
  "language_info": {
   "codemirror_mode": "r",
   "file_extension": ".r",
   "mimetype": "text/x-r-source",
   "name": "R",
   "pygments_lexer": "r",
   "version": "4.1.0"
  }
 },
 "nbformat": 4,
 "nbformat_minor": 5
}
